{
 "cells": [
  {
   "cell_type": "code",
   "execution_count": 11,
   "metadata": {},
   "outputs": [],
   "source": [
    "#Loading Libraries\n",
    "import numpy as np\n",
    "import pandas as pd\n",
    "import matplotlib.pyplot as plt\n",
    "from matplotlib.gridspec import GridSpec\n",
    "from pandas.plotting import scatter_matrix\n",
    "\n",
    "from sklearn.naive_bayes import MultinomialNB\n",
    "from sklearn.multiclass import OneVsRestClassifier\n",
    "from sklearn.neighbors import KNeighborsClassifier\n",
    "import seaborn as sns\n",
    "\n",
    "from sklearn.metrics import recall_score, precision_score, accuracy_score, f1_score\n",
    "from sklearn import metrics\n",
    "\n",
    "import re\n",
    "import nltk\n",
    "import string\n",
    "from nltk.stem import LancasterStemmer\n",
    "from nltk.corpus import stopwords\n",
    "from nltk.stem import WordNetLemmatizer\n",
    "from nltk.tokenize import word_tokenize\n",
    "\n",
    "\n",
    "import warnings\n",
    "warnings.filterwarnings('ignore')\n"
   ]
  },
  {
   "cell_type": "code",
   "execution_count": 3,
   "metadata": {},
   "outputs": [],
   "source": [
    "#Loading Data\n",
    "df = pd.read_csv(r'content\\UpdatedResumeDataSet.csv')"
   ]
  },
  {
   "cell_type": "code",
   "execution_count": 4,
   "metadata": {},
   "outputs": [
    {
     "data": {
      "text/html": [
       "<div>\n",
       "<style scoped>\n",
       "    .dataframe tbody tr th:only-of-type {\n",
       "        vertical-align: middle;\n",
       "    }\n",
       "\n",
       "    .dataframe tbody tr th {\n",
       "        vertical-align: top;\n",
       "    }\n",
       "\n",
       "    .dataframe thead th {\n",
       "        text-align: right;\n",
       "    }\n",
       "</style>\n",
       "<table border=\"1\" class=\"dataframe\">\n",
       "  <thead>\n",
       "    <tr style=\"text-align: right;\">\n",
       "      <th></th>\n",
       "      <th>Category</th>\n",
       "      <th>Resume</th>\n",
       "    </tr>\n",
       "  </thead>\n",
       "  <tbody>\n",
       "    <tr>\n",
       "      <th>0</th>\n",
       "      <td>Data Science</td>\n",
       "      <td>Skills * Programming Languages: Python (pandas...</td>\n",
       "    </tr>\n",
       "    <tr>\n",
       "      <th>1</th>\n",
       "      <td>Data Science</td>\n",
       "      <td>Education Details \\r\\nMay 2013 to May 2017 B.E...</td>\n",
       "    </tr>\n",
       "    <tr>\n",
       "      <th>2</th>\n",
       "      <td>Data Science</td>\n",
       "      <td>Areas of Interest Deep Learning, Control Syste...</td>\n",
       "    </tr>\n",
       "    <tr>\n",
       "      <th>3</th>\n",
       "      <td>Data Science</td>\n",
       "      <td>Skills â¢ R â¢ Python â¢ SAP HANA â¢ Table...</td>\n",
       "    </tr>\n",
       "    <tr>\n",
       "      <th>4</th>\n",
       "      <td>Data Science</td>\n",
       "      <td>Education Details \\r\\n MCA   YMCAUST,  Faridab...</td>\n",
       "    </tr>\n",
       "  </tbody>\n",
       "</table>\n",
       "</div>"
      ],
      "text/plain": [
       "       Category                                             Resume\n",
       "0  Data Science  Skills * Programming Languages: Python (pandas...\n",
       "1  Data Science  Education Details \\r\\nMay 2013 to May 2017 B.E...\n",
       "2  Data Science  Areas of Interest Deep Learning, Control Syste...\n",
       "3  Data Science  Skills â¢ R â¢ Python â¢ SAP HANA â¢ Table...\n",
       "4  Data Science  Education Details \\r\\n MCA   YMCAUST,  Faridab..."
      ]
     },
     "execution_count": 4,
     "metadata": {},
     "output_type": "execute_result"
    }
   ],
   "source": [
    "#Exploratory Data Analysis\n",
    "df.head()"
   ]
  },
  {
   "cell_type": "code",
   "execution_count": 5,
   "metadata": {},
   "outputs": [
    {
     "name": "stdout",
     "output_type": "stream",
     "text": [
      "<class 'pandas.core.frame.DataFrame'>\n",
      "RangeIndex: 962 entries, 0 to 961\n",
      "Data columns (total 2 columns):\n",
      " #   Column    Non-Null Count  Dtype \n",
      "---  ------    --------------  ----- \n",
      " 0   Category  962 non-null    object\n",
      " 1   Resume    962 non-null    object\n",
      "dtypes: object(2)\n",
      "memory usage: 15.2+ KB\n"
     ]
    }
   ],
   "source": [
    "df.info()"
   ]
  },
  {
   "cell_type": "code",
   "execution_count": 6,
   "metadata": {},
   "outputs": [
    {
     "data": {
      "text/plain": [
       "array(['Data Science', 'HR', 'Advocate', 'Arts', 'Web Designing',\n",
       "       'Mechanical Engineer', 'Sales', 'Health and fitness',\n",
       "       'Civil Engineer', 'Java Developer', 'Business Analyst',\n",
       "       'SAP Developer', 'Automation Testing', 'Electrical Engineering',\n",
       "       'Operations Manager', 'Python Developer', 'DevOps Engineer',\n",
       "       'Network Security Engineer', 'PMO', 'Database', 'Hadoop',\n",
       "       'ETL Developer', 'DotNet Developer', 'Blockchain', 'Testing'],\n",
       "      dtype=object)"
      ]
     },
     "execution_count": 6,
     "metadata": {},
     "output_type": "execute_result"
    }
   ],
   "source": [
    "df['Category'].unique()"
   ]
  },
  {
   "cell_type": "code",
   "execution_count": 8,
   "metadata": {},
   "outputs": [],
   "source": [
    "df['cleaned_resume'] = ''"
   ]
  },
  {
   "cell_type": "code",
   "execution_count": 7,
   "metadata": {},
   "outputs": [
    {
     "data": {
      "text/plain": [
       "(962, 2)"
      ]
     },
     "execution_count": 7,
     "metadata": {},
     "output_type": "execute_result"
    }
   ],
   "source": [
    "df.shape"
   ]
  },
  {
   "cell_type": "code",
   "execution_count": 9,
   "metadata": {},
   "outputs": [
    {
     "data": {
      "text/plain": [
       "Java Developer               84\n",
       "Testing                      70\n",
       "DevOps Engineer              55\n",
       "Python Developer             48\n",
       "Web Designing                45\n",
       "HR                           44\n",
       "Hadoop                       42\n",
       "Blockchain                   40\n",
       "ETL Developer                40\n",
       "Operations Manager           40\n",
       "Data Science                 40\n",
       "Sales                        40\n",
       "Mechanical Engineer          40\n",
       "Arts                         36\n",
       "Database                     33\n",
       "Electrical Engineering       30\n",
       "Health and fitness           30\n",
       "PMO                          30\n",
       "Business Analyst             28\n",
       "DotNet Developer             28\n",
       "Automation Testing           26\n",
       "Network Security Engineer    25\n",
       "SAP Developer                24\n",
       "Civil Engineer               24\n",
       "Advocate                     20\n",
       "Name: Category, dtype: int64"
      ]
     },
     "execution_count": 9,
     "metadata": {},
     "output_type": "execute_result"
    }
   ],
   "source": [
    "df['Category'].value_counts()"
   ]
  },
  {
   "cell_type": "markdown",
   "metadata": {},
   "source": [
    "#There are 25 different categries in the data.Java developer, Testing, and DevOps Engineer are top 3 job categories."
   ]
  },
  {
   "cell_type": "code",
   "execution_count": 15,
   "metadata": {},
   "outputs": [
    {
     "data": {
      "image/png": "[encoded data removed]",
      "text/plain": [
       "<Figure size 1080x1080 with 1 Axes>"
      ]
     },
     "metadata": {},
     "output_type": "display_data"
    }
   ],
   "source": [
    "sns.set_style(\"white\")\n",
    "plt.figure(figsize=(15, 15))\n",
    "plt.xticks(rotation=90)\n",
    "sns.countplot(y=\"Category\", data=df)\n",
    "plt.savefig('jobcategory_details.png')\n",
    "#Pie-chart\n",
    "targetCounts = df['Category'].value_counts()\n",
    "targetLabels = targetCounts.index\n",
    "# Make square figures and axes\n",
    "plt.figure(1, figsize=(25, 25))\n",
    "the_grid = GridSpec(2, 2)\n",
    "plt.subplot(the_grid[0, 1], aspect=1, title='CATEGORY DISTRIBUTION')\n",
    "source_pie = plt.pie(targetCounts, labels=targetLabels,autopct='%1.1f%%', shadow=True, )\n",
    "plt.savefig('category_dist.png')"
   ]
  },
  {
   "cell_type": "markdown",
   "metadata": {},
   "source": [
    "Data Preprocessing\n",
    "\n",
    "Step 1: Clean the ‘Resume’ column\n",
    "\n",
    "In this step, we remove all unnecessary information from resumes like URLs, hashtags, and special characters."
   ]
  },
  {
   "cell_type": "code",
   "execution_count": 67,
   "metadata": {},
   "outputs": [],
   "source": [
    "def cleanResume(resumeText):\n",
    "    # Removing character and not english.\n",
    "    resumeText = re.sub(r'[^a-zA-Z0-9]+', ' ', resumeText)\n",
    "    # Removing link of the message.\n",
    "    resumeText = re.sub(r'http\\S+', ' ', resumeText)\n",
    "    resumeText = re.sub(r'https\\S+', ' ', resumeText)\n",
    "    # remove domain\n",
    "    resumeText = re.sub('@\\S+', ' ', resumeText)\n",
    "    #Remove another symbols\n",
    "    textresumeText = re.sub(r'[^\\w]', ' ', resumeText)\n",
    "    # Remove many kind of whitespace\n",
    "    resumeText = re.sub(r'\\s+', ' ', resumeText)\n",
    "    return resumeText.lower()\n",
    "\n",
    "\n",
    "df['cleaned_resume'] = df['Resume'].apply(cleanResume)"
   ]
  },
  {
   "cell_type": "code",
   "execution_count": 68,
   "metadata": {},
   "outputs": [],
   "source": [
    "# NLTK word tokenize.\n",
    "def word_tokenize_wrapper(resumeText):\n",
    "    return word_tokenize(resumeText)\n",
    "\n",
    "df['cleaned_resume'] = df['cleaned_resume'].apply(word_tokenize_wrapper)\n"
   ]
  },
  {
   "cell_type": "code",
   "execution_count": 69,
   "metadata": {},
   "outputs": [
    {
     "name": "stdout",
     "output_type": "stream",
     "text": [
      "Tokenizing Result : \n",
      "\n",
      "0    [skills, programming, languages, python, panda...\n",
      "1    [education, details, may, 2013, to, may, 2017,...\n",
      "2    [areas, of, interest, deep, learning, control,...\n",
      "3    [skills, r, python, sap, hana, tableau, sap, h...\n",
      "4    [education, details, mca, ymcaust, faridabad, ...\n",
      "Name: cleaned_resume, dtype: object\n",
      "\n",
      "\n",
      "\n",
      "\n"
     ]
    }
   ],
   "source": [
    "print('Tokenizing Result : \\n')\n",
    "print(df['cleaned_resume'].head())\n",
    "print('\\n\\n\\n')\n"
   ]
  },
  {
   "cell_type": "code",
   "execution_count": 70,
   "metadata": {},
   "outputs": [
    {
     "name": "stdout",
     "output_type": "stream",
     "text": [
      "['i', 'me', 'my', 'myself', 'we', 'our', 'ours', 'ourselves', 'you', \"you're\", \"you've\", \"you'll\", \"you'd\", 'your', 'yours', 'yourself', 'yourselves', 'he', 'him', 'his', 'himself', 'she', \"she's\", 'her', 'hers', 'herself', 'it', \"it's\", 'its', 'itself', 'they', 'them', 'their', 'theirs', 'themselves', 'what', 'which', 'who', 'whom', 'this', 'that', \"that'll\", 'these', 'those', 'am', 'is', 'are', 'was', 'were', 'be', 'been', 'being', 'have', 'has', 'had', 'having', 'do', 'does', 'did', 'doing', 'a', 'an', 'the', 'and', 'but', 'if', 'or', 'because', 'as', 'until', 'while', 'of', 'at', 'by', 'for', 'with', 'about', 'against', 'between', 'into', 'through', 'during', 'before', 'after', 'above', 'below', 'to', 'from', 'up', 'down', 'in', 'out', 'on', 'off', 'over', 'under', 'again', 'further', 'then', 'once', 'here', 'there', 'when', 'where', 'why', 'how', 'all', 'any', 'both', 'each', 'few', 'more', 'most', 'other', 'some', 'such', 'no', 'nor', 'not', 'only', 'own', 'same', 'so', 'than', 'too', 'very', 's', 't', 'can', 'will', 'just', 'don', \"don't\", 'should', \"should've\", 'now', 'd', 'll', 'm', 'o', 're', 've', 'y', 'ain', 'aren', \"aren't\", 'couldn', \"couldn't\", 'didn', \"didn't\", 'doesn', \"doesn't\", 'hadn', \"hadn't\", 'hasn', \"hasn't\", 'haven', \"haven't\", 'isn', \"isn't\", 'ma', 'mightn', \"mightn't\", 'mustn', \"mustn't\", 'needn', \"needn't\", 'shan', \"shan't\", 'shouldn', \"shouldn't\", 'wasn', \"wasn't\", 'weren', \"weren't\", 'won', \"won't\", 'wouldn', \"wouldn't\"]\n"
     ]
    }
   ],
   "source": [
    "stop_words = stopwords.words('english')\n",
    "print(stop_words)"
   ]
  },
  {
   "cell_type": "code",
   "execution_count": 71,
   "metadata": {},
   "outputs": [],
   "source": [
    "# Manualy append additional stopword.\n",
    "stop_words.extend(['skills', 'programming', 'languages', \"topic\", \"others\",\n",
    "                   'of', 'details', 'machine', 'learning',  'database', 'visualizations',\n",
    "                   \"tools\",  \"technologies\", 'education', 'description', \"areas\", \"of\", \"interest\",\n",
    "                   \"enthusiast\", \"industry\", \"project\", \"name\", \"environment\", \"responsibilities\",\n",
    "                   'personal', 'expertise', 'company', 'computer', 'activites', 'software',\n",
    "                   'strengths', 'qualification', 'additional', 'skill', 'it',\n",
    "                   'sets', 'knowledge', 'title', 'location', 'drafting', 'packages',\n",
    "                   'systems', 'handle', 'roles', 'competencies', 'achievement', 'attended', 'core', 'profile',\n",
    "                   'linguistic', 'ability', 'passport', 'status', \"skillset\", 'clients', \"proficiencies\",\n",
    "                   'technicalproficiencies', 'hobbies', 'date', \"duties\", \"set\", \"os\", \"proficient\", 'b', 'e', 'uit', 'work', 'works',\n",
    "                   'technical', 'use', 'application', 'data', 'requirment', 'issues', 'issue', 'experience', 'jobs', 'job',\n",
    "                   'experiences', 'include', 'using', 'used', 'various', 'like', 'activity', 'projects', 'create', 'exprience'])\n",
    "# Convert list to dictionary.\n",
    "stop_words = set(stop_words)\n",
    "#stop_words=stop_words.update(additional_stopwords)\n"
   ]
  },
  {
   "cell_type": "code",
   "execution_count": 72,
   "metadata": {},
   "outputs": [],
   "source": [
    "def remove_stopwords(resumeText):\n",
    "    output = [i for i in resumeText if i not in stop_words]\n",
    "    return output\n",
    "\n",
    "#applying the function\n",
    "df['cleaned_resume']= df['cleaned_resume'].apply(lambda x:remove_stopwords(x))"
   ]
  },
  {
   "cell_type": "markdown",
   "metadata": {},
   "source": [
    "Step 2: Encoding ‘Category’"
   ]
  },
  {
   "cell_type": "code",
   "execution_count": 73,
   "metadata": {},
   "outputs": [],
   "source": [
    "#Stemming and Lematization\n",
    "\n",
    "#Stemming to get a root of every word\n",
    "\n",
    "from nltk.stem import PorterStemmer\n",
    "\n",
    "stemmer=PorterStemmer()\n",
    "\n",
    "#defining a function for stemming\n",
    "def stemming(resumeText):\n",
    "    stem_text = [stemmer.stem(word) for word in resumeText]\n",
    "    return stem_text\n",
    "\n",
    "df['cleaned_resume']=df['cleaned_resume'].apply(lambda x: stemming(x))"
   ]
  },
  {
   "cell_type": "code",
   "execution_count": 74,
   "metadata": {},
   "outputs": [],
   "source": [
    "#defining the object for Lemmatization\n",
    "wordnet_lemmatizer = WordNetLemmatizer()\n",
    "\n",
    "#defining the function for lemmatization\n",
    "def lemmatizer(resumeText):\n",
    "    lemm_text = [wordnet_lemmatizer.lemmatize(word) for word in resumeText]\n",
    "    return lemm_text\n",
    "df['cleaned_resume']=df['cleaned_resume'].apply(lambda x:lemmatizer(x))"
   ]
  },
  {
   "cell_type": "code",
   "execution_count": 75,
   "metadata": {},
   "outputs": [
    {
     "data": {
      "text/plain": [
       "0      [python, panda, numpi, scipi, scikit, learn, m...\n",
       "1      [may, 2013, may, 2017, rgpv, scientist, scient...\n",
       "2      [deep, control, system, design, python, electr...\n",
       "3      [r, python, sap, hana, tableau, sap, hana, sql...\n",
       "4      [mca, ymcaust, faridabad, haryana, scienc, int...\n",
       "                             ...                        \n",
       "957    [m, offic, word, basic, excel, power, point, s...\n",
       "958    [willing, accept, challeng, posit, think, good...\n",
       "959    [quick, learner, eager, learn, new, thing, com...\n",
       "960    [m, power, point, m, offic, c, protiu, pcb, de...\n",
       "961    [window, xp, 7, 8, 8, 1, 10, mysql, sql, serve...\n",
       "Name: cleaned_resume, Length: 962, dtype: object"
      ]
     },
     "execution_count": 75,
     "metadata": {},
     "output_type": "execute_result"
    }
   ],
   "source": [
    "df['cleaned_resume']"
   ]
  },
  {
   "cell_type": "code",
   "execution_count": 76,
   "metadata": {},
   "outputs": [],
   "source": [
    "test = []\n",
    "\n",
    "for i in df['cleaned_resume']:\n",
    "    test.append(\",\".join(i))\n",
    "\n",
    "test = [s.replace(',', ' ') for s in test]"
   ]
  },
  {
   "cell_type": "code",
   "execution_count": 77,
   "metadata": {},
   "outputs": [
    {
     "data": {
      "text/plain": [
       "0       6\n",
       "1       6\n",
       "2       6\n",
       "3       6\n",
       "4       6\n",
       "       ..\n",
       "957    23\n",
       "958    23\n",
       "959    23\n",
       "960    23\n",
       "961    23\n",
       "Name: Category, Length: 962, dtype: int64"
      ]
     },
     "execution_count": 77,
     "metadata": {},
     "output_type": "execute_result"
    }
   ],
   "source": [
    "from sklearn.preprocessing import LabelEncoder\n",
    "var_mod = ['Category']\n",
    "le = LabelEncoder()\n",
    "\n",
    "df['Category'] = le.fit_transform(df['Category'])\n",
    "df['Category']\n"
   ]
  },
  {
   "cell_type": "markdown",
   "metadata": {},
   "source": [
    "Step 3: Preprocessing ‘cleaned_resume’ column"
   ]
  },
  {
   "cell_type": "code",
   "execution_count": 78,
   "metadata": {},
   "outputs": [],
   "source": [
    "from sklearn.model_selection import train_test_split\n",
    "from sklearn.feature_extraction.text import TfidfVectorizer\n",
    "from scipy.sparse import hstack\n",
    "\n",
    "# Initialize the TF-IDF vectorizer\n",
    "requiredText = test\n",
    "requiredTarget = df['Category'].values\n",
    "tfidf_vectorizer = TfidfVectorizer(\n",
    "    sublinear_tf=True, stop_words='english',max_features=1500, lowercase=False)\n",
    "\n",
    "# Fit and transform the 'cleaned_resume' column\n",
    "tfidf_matrix = tfidf_vectorizer.fit_transform(test)\n"
   ]
  },
  {
   "cell_type": "markdown",
   "metadata": {},
   "source": [
    "Model Building"
   ]
  },
  {
   "cell_type": "code",
   "execution_count": 79,
   "metadata": {},
   "outputs": [
    {
     "name": "stdout",
     "output_type": "stream",
     "text": [
      "(769, 1500)\n",
      "(193, 1500)\n"
     ]
    }
   ],
   "source": [
    "x_train,x_test,y_train,y_test = train_test_split(tfidf_matrix,requiredTarget,random_state=0, test_size=0.2)\n",
    "print(x_train.shape)\n",
    "print(x_test.shape)"
   ]
  },
  {
   "cell_type": "code",
   "execution_count": 80,
   "metadata": {},
   "outputs": [],
   "source": [
    "from sklearn import svm"
   ]
  },
  {
   "cell_type": "code",
   "execution_count": 81,
   "metadata": {},
   "outputs": [
    {
     "data": {
      "text/plain": [
       "SVC(decision_function_shape='ovo', kernel='linear')"
      ]
     },
     "execution_count": 81,
     "metadata": {},
     "output_type": "execute_result"
    }
   ],
   "source": [
    "clf = svm.SVC(decision_function_shape='ovo', kernel='linear')\n",
    "clf.fit(x_train, y_train)\n"
   ]
  },
  {
   "cell_type": "code",
   "execution_count": 86,
   "metadata": {},
   "outputs": [],
   "source": [
    "y_pred = clf.predict(x_test)"
   ]
  },
  {
   "cell_type": "markdown",
   "metadata": {},
   "source": [
    "Results"
   ]
  },
  {
   "cell_type": "code",
   "execution_count": 85,
   "metadata": {},
   "outputs": [
    {
     "name": "stdout",
     "output_type": "stream",
     "text": [
      "Accuracy score : 1.0\n",
      "Precision Score :  1.0\n",
      "Recall Score :  1.0\n",
      "F1 Score :  1.0\n"
     ]
    }
   ],
   "source": [
    "print('Accuracy score :', clf.score(x_test, y_test))\n",
    "print(\"Precision Score : \", precision_score(y_test, y_pred, pos_label='positive', average='micro'))\n",
    "print(\"Recall Score : \", recall_score(y_test, y_pred, pos_label='positive', average='micro'))\n",
    "print(\"F1 Score : \", f1_score(y_test, y_pred, pos_label='positive', average='micro'))\n"
   ]
  },
  {
   "cell_type": "code",
   "execution_count": 87,
   "metadata": {},
   "outputs": [],
   "source": [
    "clf = svm.SVC(decision_function_shape='ovo', kernel='rbf') #RBF kernel = non linear\n",
    "clf.fit(x_train, y_train)\n",
    "## PREDICT MODEL\n",
    "y_pred = clf.predict(x_test)\n"
   ]
  },
  {
   "cell_type": "code",
   "execution_count": 88,
   "metadata": {},
   "outputs": [
    {
     "name": "stdout",
     "output_type": "stream",
     "text": [
      "Accuracy score : 0.9948186528497409\n",
      "Precision Score :  0.9948186528497409\n",
      "Recall Score :  0.9948186528497409\n",
      "F1 Score :  0.9948186528497409\n"
     ]
    }
   ],
   "source": [
    "print('Accuracy score :', clf.score(x_test, y_test))\n",
    "print(\"Precision Score : \", precision_score(\n",
    "    y_test, y_pred, pos_label='positive', average='micro'))\n",
    "print(\"Recall Score : \", recall_score(\n",
    "    y_test, y_pred, pos_label='positive', average='micro'))\n",
    "print(\"F1 Score : \", f1_score(y_test, y_pred,\n",
    "      pos_label='positive', average='micro'))\n"
   ]
  },
  {
   "cell_type": "code",
   "execution_count": 89,
   "metadata": {},
   "outputs": [],
   "source": [
    "from sklearn.linear_model import RidgeClassifier\n",
    "from sklearn.naive_bayes import GaussianNB\n",
    "from sklearn.linear_model import LogisticRegression\n",
    "clf = LogisticRegression(multi_class='multinomial')\n",
    "clf.fit(x_train, y_train)\n",
    "# PREDICT MODEL\n",
    "y_pred = clf.predict(x_test)\n"
   ]
  },
  {
   "cell_type": "code",
   "execution_count": 90,
   "metadata": {},
   "outputs": [
    {
     "name": "stdout",
     "output_type": "stream",
     "text": [
      "Accuracy score : 0.9896373056994818\n",
      "Precision Score :  0.9896373056994818\n",
      "Recall Score :  0.9896373056994818\n",
      "F1 Score :  0.9896373056994818\n"
     ]
    }
   ],
   "source": [
    "print('Accuracy score :', clf.score(x_test, y_test))\n",
    "print(\"Precision Score : \", precision_score(\n",
    "    y_test, y_pred, pos_label='positive', average='micro'))\n",
    "print(\"Recall Score : \", recall_score(\n",
    "    y_test, y_pred, pos_label='positive', average='micro'))\n",
    "print(\"F1 Score : \", f1_score(y_test, y_pred,\n",
    "      pos_label='positive', average='micro'))\n"
   ]
  },
  {
   "cell_type": "code",
   "execution_count": 92,
   "metadata": {},
   "outputs": [],
   "source": [
    "from sklearn.multiclass import OneVsOneClassifier\n",
    "clf = OneVsRestClassifier(RidgeClassifier())\n",
    "clf.fit(x_train, y_train)\n",
    "## PREDICT MODEL\n",
    "y_pred = clf.predict(x_test)\n"
   ]
  },
  {
   "cell_type": "code",
   "execution_count": 93,
   "metadata": {},
   "outputs": [
    {
     "name": "stdout",
     "output_type": "stream",
     "text": [
      "Accuracy score : 0.9948186528497409\n",
      "Precision Score :  0.9948186528497409\n",
      "Recall Score :  0.9948186528497409\n",
      "F1 Score :  0.9948186528497409\n"
     ]
    }
   ],
   "source": [
    "print('Accuracy score :', clf.score(x_test, y_test))\n",
    "print(\"Precision Score : \", precision_score(\n",
    "    y_test, y_pred, pos_label='positive', average='micro'))\n",
    "print(\"Recall Score : \", recall_score(\n",
    "    y_test, y_pred, pos_label='positive', average='micro'))\n",
    "print(\"F1 Score : \", f1_score(y_test, y_pred,\n",
    "      pos_label='positive', average='micro'))\n"
   ]
  },
  {
   "cell_type": "code",
   "execution_count": 94,
   "metadata": {},
   "outputs": [
    {
     "data": {
      "text/plain": [
       "array([[-0.01903854, -0.04060202, -0.0187664 , ..., -0.00918154,\n",
       "        -0.00429324, -0.00429422],\n",
       "       [-0.01500112,  0.08540553, -0.02072027, ..., -0.06088161,\n",
       "         0.00229667, -0.02157327],\n",
       "       [-0.01132178,  0.02613893, -0.01541993, ..., -0.01640819,\n",
       "         0.02579223,  0.00089672],\n",
       "       ...,\n",
       "       [-0.04337422, -0.01245501, -0.00201948, ..., -0.01244702,\n",
       "        -0.03298067,  0.13145904],\n",
       "       [-0.0666768 ,  0.24490772, -0.08542755, ..., -0.00337258,\n",
       "        -0.0281497 ,  0.01365683],\n",
       "       [-0.01399771, -0.01285745, -0.01943897, ..., -0.01979806,\n",
       "        -0.0074553 , -0.02130501]])"
      ]
     },
     "execution_count": 94,
     "metadata": {},
     "output_type": "execute_result"
    }
   ],
   "source": [
    "clf.coef_\n"
   ]
  }
 ],
 "metadata": {
  "kernelspec": {
   "display_name": "base",
   "language": "python",
   "name": "python3"
  },
  "language_info": {
   "codemirror_mode": {
    "name": "ipython",
    "version": 3
   },
   "file_extension": ".py",
   "mimetype": "text/x-python",
   "name": "python",
   "nbconvert_exporter": "python",
   "pygments_lexer": "ipython3",
   "version": "3.9.12"
  },
  "orig_nbformat": 4
 },
 "nbformat": 4,
 "nbformat_minor": 2
}
